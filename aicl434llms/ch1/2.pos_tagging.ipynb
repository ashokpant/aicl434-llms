{
 "cells": [
  {
   "cell_type": "markdown",
   "id": "b18b4fbc8e23e01f",
   "metadata": {},
   "source": [
    "# POS Tagging\n",
    "Ashok Kumar Pant | AI Solution Architect| CTO and Co-founder at Treeleaf/Anydone | 2025"
   ]
  },
  {
   "cell_type": "markdown",
   "id": "543210b22c2708c1",
   "metadata": {},
   "source": [
    "```\n",
    "CC coordinating conjunction\n",
    "CD cardinal digit \n",
    "DT determiner \n",
    "EX existential there (like: “there is” ... think of it like “there exists”) \n",
    "FW foreign word \n",
    "IN preposition/subordinating conjunction \n",
    "JJ adjective ‘big’ \n",
    "JJR adjective, comparative ‘bigger’ \n",
    "JJS adjective, superlative ‘biggest’ \n",
    "LS list marker 1) \n",
    "MD modal could, will \n",
    "NN noun, singular ‘desk’\n",
    "NNS noun plural ‘desks’\n",
    "NNP proper noun, singular ‘Harrison’ \n",
    "NNPS proper noun, plural ‘Americans’ \n",
    "PDT predeterminer ‘all the kids’\n",
    "POS possessive ending parent’s\n",
    "PRP personal pronoun I, he, she \n",
    "PRP$ possessive pronoun my, his, hers \n",
    "RB adverb very, silently \n",
    "RBR adverb, comparative better \n",
    "RBS adverb, superlative best \n",
    "RP particle give up \n",
    "TO to go ‘to’ the store \n",
    "UH interjection \n",
    "VB verb, base form take \n",
    "VBD verb, past tense took \n",
    "VBG verb, gerund/present participle taking \n",
    "VBN verb, past participle taken \n",
    "VBP verb, sing. present, non-3d take \n",
    "VBZ verb, 3rd person sing. present takes \n",
    "WDT wh-determiner which \n",
    "WP wh-pronoun who, what\n",
    "WP$ possessive wh-pronoun whose \n",
    "WRB wh-adverb where, when\n",
    "```\n"
   ]
  },
  {
   "cell_type": "code",
   "execution_count": 1,
   "id": "eb24a4df6412a33f",
   "metadata": {
    "ExecuteTime": {
     "end_time": "2025-03-19T05:04:04.655093Z",
     "start_time": "2025-03-19T05:04:04.651333Z"
    }
   },
   "outputs": [
    {
     "name": "stdout",
     "output_type": "stream",
     "text": [
      "[('I', 'PRP'), ('love', 'VBP'), ('NLP', 'NNP'), ('and', 'CC'), ('I', 'PRP'), ('will', 'MD'), ('learn', 'VB'), ('NLP', 'NNP'), ('in', 'IN'), ('2', 'CD'), ('month', 'NN'), ('.', '.')]\n",
      "[('I', 'PRP'), ('am', 'VBP'), ('learning', 'VBG'), ('NLP', 'NNP')]\n"
     ]
    },
    {
     "name": "stderr",
     "output_type": "stream",
     "text": [
      "[nltk_data] Downloading package punkt to /Users/ashokpant/nltk_data...\n",
      "[nltk_data]   Package punkt is already up-to-date!\n",
      "[nltk_data] Downloading package averaged_perceptron_tagger to\n",
      "[nltk_data]     /Users/ashokpant/nltk_data...\n",
      "[nltk_data]   Package averaged_perceptron_tagger is already up-to-\n",
      "[nltk_data]       date!\n"
     ]
    }
   ],
   "source": [
    "import nltk\n",
    "\n",
    "# Download required NLTK resources (run this once)\n",
    "nltk.download('punkt')  # for tokenization\n",
    "nltk.download('averaged_perceptron_tagger')  # for POS tagging\n",
    "\n",
    "text = \"I love NLP and I will learn NLP in 2 month. I am learning NLP\"\n",
    "\n",
    "sentences = nltk.tokenize.sent_tokenize(text)\n",
    "\n",
    "for sentence in sentences:\n",
    "    words = nltk.tokenize.word_tokenize(sentence)\n",
    "    tags = nltk.pos_tag(words)\n",
    "    print(tags)\n",
    "# [('I', 'PRP'), ('love', 'VBP'), ('NLP', 'NNP'), ('and', 'CC'), ('I', 'PRP'), ('will', 'MD'),\n",
    "# ('learn', 'VB'), ('NLP', 'NNP'), ('in', 'IN'), ('2', 'CD'), ('month', 'NN'), ('.', '.')]\n",
    "# [('I', 'PRP'), ('am', 'VBP'), ('learning', 'VBG'), ('NLP', 'NNP')]"
   ]
  },
  {
   "cell_type": "markdown",
   "id": "8013d4bad8b880dc",
   "metadata": {},
   "source": [
    "## References\n",
    "1. https://explosion.ai/blog/part-of-speech-pos-tagger-in-python"
   ]
  },
  {
   "cell_type": "code",
   "execution_count": null,
   "id": "2c2b8fd60b0e4004",
   "metadata": {},
   "outputs": [],
   "source": []
  }
 ],
 "metadata": {
  "kernelspec": {
   "display_name": "Python 3 (ipykernel)",
   "language": "python",
   "name": "python3"
  },
  "language_info": {
   "codemirror_mode": {
    "name": "ipython",
    "version": 3
   },
   "file_extension": ".py",
   "mimetype": "text/x-python",
   "name": "python",
   "nbconvert_exporter": "python",
   "pygments_lexer": "ipython3",
   "version": "3.12.4"
  }
 },
 "nbformat": 4,
 "nbformat_minor": 5
}
