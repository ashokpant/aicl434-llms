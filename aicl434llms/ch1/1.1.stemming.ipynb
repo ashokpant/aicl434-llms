{
 "cells": [
  {
   "cell_type": "markdown",
   "id": "7b46a11cea5c53ea",
   "metadata": {},
   "source": [
    "# Stemming and Lemmatization\n",
    "Ashok Kumar Pant | AI Solution Architect| CTO and Co-founder at Treeleaf/Anydone"
   ]
  },
  {
   "cell_type": "markdown",
   "id": "50a17fa5d6d78fdc",
   "metadata": {},
   "source": [
    "## Porter Stemmer"
   ]
  },
  {
   "cell_type": "code",
   "execution_count": 1,
   "id": "382ffa981e207a24",
   "metadata": {
    "ExecuteTime": {
     "end_time": "2025-03-19T08:06:32.009525Z",
     "start_time": "2025-03-19T08:06:29.924270Z"
    }
   },
   "outputs": [
    {
     "name": "stdout",
     "output_type": "stream",
     "text": [
      "running->run\n",
      "flying->fli\n",
      "happily->happili\n",
      "organization->organ\n",
      "generalization->gener\n",
      "relational->relat\n",
      "troubling->troubl\n",
      "singing->sing\n"
     ]
    }
   ],
   "source": [
    "from nltk.stem import PorterStemmer\n",
    "ps = PorterStemmer()\n",
    "words = [\"running\", \"flying\", \"happily\", \"organization\", \"generalization\", \"relational\", \"troubling\", \"singing\"]\n",
    "for word in words:\n",
    "    print(f\"{word}->{ps.stem(word)}\")"
   ]
  },
  {
   "cell_type": "markdown",
   "id": "567c79491b0e79cb",
   "metadata": {},
   "source": [
    "## Snowball Stemmer"
   ]
  },
  {
   "cell_type": "code",
   "execution_count": 2,
   "id": "27ccb69adec09f59",
   "metadata": {
    "ExecuteTime": {
     "end_time": "2025-03-19T04:36:19.440597Z",
     "start_time": "2025-03-19T04:36:19.437481Z"
    }
   },
   "outputs": [
    {
     "name": "stdout",
     "output_type": "stream",
     "text": [
      "running->run\n",
      "flying->fli\n",
      "happily->happili\n",
      "organization->organ\n",
      "generalization->general\n",
      "relational->relat\n",
      "troubling->troubl\n",
      "singing->sing\n"
     ]
    }
   ],
   "source": [
    "from nltk.stem import SnowballStemmer\n",
    "\n",
    "ss = SnowballStemmer(\"english\")\n",
    "words = [\"running\", \"flying\", \"happily\", \"organization\", \"generalization\", \"relational\", \"troubling\", \"singing\"]\n",
    "for word in words:\n",
    "    print(f\"{word}->{ss.stem(word)}\")"
   ]
  },
  {
   "cell_type": "markdown",
   "id": "91cdff66ba77d39e",
   "metadata": {},
   "source": [
    "## Wordnet Lemmatizer"
   ]
  },
  {
   "cell_type": "code",
   "execution_count": 3,
   "id": "9af1eaa29afe7791",
   "metadata": {
    "ExecuteTime": {
     "end_time": "2025-03-19T04:51:12.129395Z",
     "start_time": "2025-03-19T04:51:12.126447Z"
    }
   },
   "outputs": [
    {
     "name": "stderr",
     "output_type": "stream",
     "text": [
      "[nltk_data] Downloading package wordnet to\n",
      "[nltk_data]     /Users/ashokpant/nltk_data...\n",
      "[nltk_data]   Package wordnet is already up-to-date!\n"
     ]
    },
    {
     "name": "stdout",
     "output_type": "stream",
     "text": [
      "running->running\n",
      "flied->flied\n",
      "goes->go\n",
      "organization->organization\n",
      "generalizations->generalization\n",
      "relational->relational\n",
      "troubling->troubling\n",
      "singing->singing\n"
     ]
    }
   ],
   "source": [
    "import nltk\n",
    "from nltk.stem import WordNetLemmatizer\n",
    "\n",
    "nltk.download('wordnet')\n",
    "wl = WordNetLemmatizer()\n",
    "words = [\"running\", \"flied\", \"goes\", \"organization\", \"generalizations\", \"relational\", \"troubling\", \"singing\", ]\n",
    "for word in words:\n",
    "    print(f\"{word}->{wl.lemmatize(word)}\")\n",
    "# running->running\n",
    "# flied->flied\n",
    "# goes->go\n",
    "# organization->organization\n",
    "# generalizations->generalization\n",
    "# relational->relational\n",
    "# troubling->troubling\n",
    "# singing->singing"
   ]
  },
  {
   "cell_type": "markdown",
   "id": "be4efba1bcb31b44",
   "metadata": {},
   "source": []
  }
 ],
 "metadata": {
  "kernelspec": {
   "display_name": "Python 3 (ipykernel)",
   "language": "python",
   "name": "python3"
  },
  "language_info": {
   "codemirror_mode": {
    "name": "ipython",
    "version": 3
   },
   "file_extension": ".py",
   "mimetype": "text/x-python",
   "name": "python",
   "nbconvert_exporter": "python",
   "pygments_lexer": "ipython3",
   "version": "3.12.4"
  }
 },
 "nbformat": 4,
 "nbformat_minor": 5
}
