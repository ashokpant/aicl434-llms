{
 "cells": [
  {
   "cell_type": "markdown",
   "id": "555117cf11a59d8e",
   "metadata": {},
   "source": [
    "#  Word Embeddings\n",
    "\n",
    "Ashok Kumar Pant | AI Solution Architect | CTO and Co-founder at Treeleaf/Anydone\n"
   ]
  },
  {
   "cell_type": "markdown",
   "id": "ba0ba1effa6047e4",
   "metadata": {},
   "source": [
    "## Word2Vec\n",
    "word2vec is the deep learning Google framework to train  word embeddings. It will use all the words of the whole corpus and predict\n",
    "the nearby words. It will create a vector for all the words present in the corpus in a way so that the context is captured. It also outperforms any other methodologies in the space of word similarity and word analogies.\n",
    "\n",
    "There are mainly 2 types in word2vec.\n",
    "\n",
    "* Continuous Bag of Words (CBOW)\n",
    "* Skip-Gram"
   ]
  },
  {
   "cell_type": "code",
   "execution_count": 27,
   "id": "1ceeb1fc80abf735",
   "metadata": {
    "ExecuteTime": {
     "end_time": "2025-03-26T08:14:44.580010Z",
     "start_time": "2025-03-26T08:14:43.412910Z"
    }
   },
   "outputs": [
    {
     "name": "stdout",
     "output_type": "stream",
     "text": [
      "\u001B[33mDEPRECATION: Loading egg at /Users/ashokpant/miniconda3/envs/ml/lib/python3.12/site-packages/grpcio-1.69.0-py3.12-macosx-11.0-arm64.egg is deprecated. pip 25.1 will enforce this behaviour change. A possible replacement is to use pip for package installation. Discussion can be found at https://github.com/pypa/pip/issues/12330\u001B[0m\u001B[33m\n",
      "\u001B[0m\u001B[33mDEPRECATION: Loading egg at /Users/ashokpant/miniconda3/envs/ml/lib/python3.12/site-packages/google_resumable_media-2.7.2-py3.12.egg is deprecated. pip 25.1 will enforce this behaviour change. A possible replacement is to use pip for package installation. Discussion can be found at https://github.com/pypa/pip/issues/12330\u001B[0m\u001B[33m\n",
      "\u001B[0m\u001B[33mDEPRECATION: Loading egg at /Users/ashokpant/miniconda3/envs/ml/lib/python3.12/site-packages/Deprecated-1.2.15-py3.12.egg is deprecated. pip 25.1 will enforce this behaviour change. A possible replacement is to use pip for package installation. Discussion can be found at https://github.com/pypa/pip/issues/12330\u001B[0m\u001B[33m\n",
      "\u001B[0m\u001B[33mDEPRECATION: Loading egg at /Users/ashokpant/miniconda3/envs/ml/lib/python3.12/site-packages/shapely-2.0.6-py3.12-macosx-11.0-arm64.egg is deprecated. pip 25.1 will enforce this behaviour change. A possible replacement is to use pip for package installation. Discussion can be found at https://github.com/pypa/pip/issues/12330\u001B[0m\u001B[33m\n",
      "\u001B[0m\u001B[33mDEPRECATION: Loading egg at /Users/ashokpant/miniconda3/envs/ml/lib/python3.12/site-packages/configloader-1.0.1-py3.12.egg is deprecated. pip 25.1 will enforce this behaviour change. A possible replacement is to use pip for package installation. Discussion can be found at https://github.com/pypa/pip/issues/12330\u001B[0m\u001B[33m\n",
      "\u001B[0m\u001B[33mDEPRECATION: Loading egg at /Users/ashokpant/miniconda3/envs/ml/lib/python3.12/site-packages/importlib_metadata-6.11.0-py3.12.egg is deprecated. pip 25.1 will enforce this behaviour change. A possible replacement is to use pip for package installation. Discussion can be found at https://github.com/pypa/pip/issues/12330\u001B[0m\u001B[33m\n",
      "\u001B[0m\u001B[33mDEPRECATION: Loading egg at /Users/ashokpant/miniconda3/envs/ml/lib/python3.12/site-packages/bluerock-0.1-py3.12.egg is deprecated. pip 25.1 will enforce this behaviour change. A possible replacement is to use pip for package installation. Discussion can be found at https://github.com/pypa/pip/issues/12330\u001B[0m\u001B[33m\n",
      "\u001B[0m\u001B[33mDEPRECATION: Loading egg at /Users/ashokpant/miniconda3/envs/ml/lib/python3.12/site-packages/enum34-1.1.10-py3.12.egg is deprecated. pip 25.1 will enforce this behaviour change. A possible replacement is to use pip for package installation. Discussion can be found at https://github.com/pypa/pip/issues/12330\u001B[0m\u001B[33m\n",
      "\u001B[0m\u001B[33mDEPRECATION: Loading egg at /Users/ashokpant/miniconda3/envs/ml/lib/python3.12/site-packages/proto_plus-1.25.0-py3.12.egg is deprecated. pip 25.1 will enforce this behaviour change. A possible replacement is to use pip for package installation. Discussion can be found at https://github.com/pypa/pip/issues/12330\u001B[0m\u001B[33m\n",
      "\u001B[0m\u001B[33mDEPRECATION: Loading egg at /Users/ashokpant/miniconda3/envs/ml/lib/python3.12/site-packages/recommendation-1.0.0-py3.12.egg is deprecated. pip 25.1 will enforce this behaviour change. A possible replacement is to use pip for package installation. Discussion can be found at https://github.com/pypa/pip/issues/12330\u001B[0m\u001B[33m\n",
      "\u001B[0m\u001B[33mDEPRECATION: Loading egg at /Users/ashokpant/miniconda3/envs/ml/lib/python3.12/site-packages/fire-0.7.0-py3.12.egg is deprecated. pip 25.1 will enforce this behaviour change. A possible replacement is to use pip for package installation. Discussion can be found at https://github.com/pypa/pip/issues/12330\u001B[0m\u001B[33m\n",
      "\u001B[0m\u001B[33mDEPRECATION: Loading egg at /Users/ashokpant/miniconda3/envs/ml/lib/python3.12/site-packages/elasticsearch-8.17.0-py3.12.egg is deprecated. pip 25.1 will enforce this behaviour change. A possible replacement is to use pip for package installation. Discussion can be found at https://github.com/pypa/pip/issues/12330\u001B[0m\u001B[33m\n",
      "\u001B[0m\u001B[33mDEPRECATION: Loading egg at /Users/ashokpant/miniconda3/envs/ml/lib/python3.12/site-packages/python_docx-1.1.2-py3.12.egg is deprecated. pip 25.1 will enforce this behaviour change. A possible replacement is to use pip for package installation. Discussion can be found at https://github.com/pypa/pip/issues/12330\u001B[0m\u001B[33m\n",
      "\u001B[0m\u001B[33mDEPRECATION: Loading egg at /Users/ashokpant/miniconda3/envs/ml/lib/python3.12/site-packages/pyclipper-1.3.0.post6-py3.12-macosx-11.0-arm64.egg is deprecated. pip 25.1 will enforce this behaviour change. A possible replacement is to use pip for package installation. Discussion can be found at https://github.com/pypa/pip/issues/12330\u001B[0m\u001B[33m\n",
      "\u001B[0m\u001B[33mDEPRECATION: Loading egg at /Users/ashokpant/miniconda3/envs/ml/lib/python3.12/site-packages/google_cloud_core-2.4.1-py3.12.egg is deprecated. pip 25.1 will enforce this behaviour change. A possible replacement is to use pip for package installation. Discussion can be found at https://github.com/pypa/pip/issues/12330\u001B[0m\u001B[33m\n",
      "\u001B[0m\u001B[33mDEPRECATION: Loading egg at /Users/ashokpant/miniconda3/envs/ml/lib/python3.12/site-packages/vnpy_ib-10.19.1.10-py3.12.egg is deprecated. pip 25.1 will enforce this behaviour change. A possible replacement is to use pip for package installation. Discussion can be found at https://github.com/pypa/pip/issues/12330\u001B[0m\u001B[33m\n",
      "\u001B[0m\u001B[33mDEPRECATION: Loading egg at /Users/ashokpant/miniconda3/envs/ml/lib/python3.12/site-packages/vnpy_ibdata-1.0.0.0-py3.12.egg is deprecated. pip 25.1 will enforce this behaviour change. A possible replacement is to use pip for package installation. Discussion can be found at https://github.com/pypa/pip/issues/12330\u001B[0m\u001B[33m\n",
      "\u001B[0m\u001B[33mDEPRECATION: Loading egg at /Users/ashokpant/miniconda3/envs/ml/lib/python3.12/site-packages/s3transfer-0.11.1-py3.12.egg is deprecated. pip 25.1 will enforce this behaviour change. A possible replacement is to use pip for package installation. Discussion can be found at https://github.com/pypa/pip/issues/12330\u001B[0m\u001B[33m\n",
      "\u001B[0m\u001B[33mDEPRECATION: Loading egg at /Users/ashokpant/miniconda3/envs/ml/lib/python3.12/site-packages/pyasn1_modules-0.4.1-py3.12.egg is deprecated. pip 25.1 will enforce this behaviour change. A possible replacement is to use pip for package installation. Discussion can be found at https://github.com/pypa/pip/issues/12330\u001B[0m\u001B[33m\n",
      "\u001B[0m\u001B[33mDEPRECATION: Loading egg at /Users/ashokpant/miniconda3/envs/ml/lib/python3.12/site-packages/urllib3-1.26.2-py3.12.egg is deprecated. pip 25.1 will enforce this behaviour change. A possible replacement is to use pip for package installation. Discussion can be found at https://github.com/pypa/pip/issues/12330\u001B[0m\u001B[33m\n",
      "\u001B[0m\u001B[33mDEPRECATION: Loading egg at /Users/ashokpant/miniconda3/envs/ml/lib/python3.12/site-packages/grpcio_tools-1.69.0-py3.12-macosx-11.0-arm64.egg is deprecated. pip 25.1 will enforce this behaviour change. A possible replacement is to use pip for package installation. Discussion can be found at https://github.com/pypa/pip/issues/12330\u001B[0m\u001B[33m\n",
      "\u001B[0m\u001B[33mDEPRECATION: Loading egg at /Users/ashokpant/miniconda3/envs/ml/lib/python3.12/site-packages/elastic_transport-8.17.0-py3.12.egg is deprecated. pip 25.1 will enforce this behaviour change. A possible replacement is to use pip for package installation. Discussion can be found at https://github.com/pypa/pip/issues/12330\u001B[0m\u001B[33m\n",
      "\u001B[0m\u001B[33mDEPRECATION: Loading egg at /Users/ashokpant/miniconda3/envs/ml/lib/python3.12/site-packages/albumentations-1.4.10-py3.12.egg is deprecated. pip 25.1 will enforce this behaviour change. A possible replacement is to use pip for package installation. Discussion can be found at https://github.com/pypa/pip/issues/12330\u001B[0m\u001B[33m\n",
      "\u001B[0m\u001B[33mDEPRECATION: Loading egg at /Users/ashokpant/miniconda3/envs/ml/lib/python3.12/site-packages/google_cloud_storage-3.0.0rc1-py3.12.egg is deprecated. pip 25.1 will enforce this behaviour change. A possible replacement is to use pip for package installation. Discussion can be found at https://github.com/pypa/pip/issues/12330\u001B[0m\u001B[33m\n",
      "\u001B[0m\u001B[33mDEPRECATION: Loading egg at /Users/ashokpant/miniconda3/envs/ml/lib/python3.12/site-packages/googleapis_common_protos-1.66.0-py3.12.egg is deprecated. pip 25.1 will enforce this behaviour change. A possible replacement is to use pip for package installation. Discussion can be found at https://github.com/pypa/pip/issues/12330\u001B[0m\u001B[33m\n",
      "\u001B[0m\u001B[33mDEPRECATION: Loading egg at /Users/ashokpant/miniconda3/envs/ml/lib/python3.12/site-packages/scikit_image-0.25.0-py3.12-macosx-11.0-arm64.egg is deprecated. pip 25.1 will enforce this behaviour change. A possible replacement is to use pip for package installation. Discussion can be found at https://github.com/pypa/pip/issues/12330\u001B[0m\u001B[33m\n",
      "\u001B[0m\u001B[33mDEPRECATION: Loading egg at /Users/ashokpant/miniconda3/envs/ml/lib/python3.12/site-packages/google-3.0.0-py3.12.egg is deprecated. pip 25.1 will enforce this behaviour change. A possible replacement is to use pip for package installation. Discussion can be found at https://github.com/pypa/pip/issues/12330\u001B[0m\u001B[33m\n",
      "\u001B[0m\u001B[33mDEPRECATION: Loading egg at /Users/ashokpant/miniconda3/envs/ml/lib/python3.12/site-packages/Django-3.2.25-py3.12.egg is deprecated. pip 25.1 will enforce this behaviour change. A possible replacement is to use pip for package installation. Discussion can be found at https://github.com/pypa/pip/issues/12330\u001B[0m\u001B[33m\n",
      "\u001B[0m\u001B[33mDEPRECATION: Loading egg at /Users/ashokpant/miniconda3/envs/ml/lib/python3.12/site-packages/albucore-0.0.13-py3.12.egg is deprecated. pip 25.1 will enforce this behaviour change. A possible replacement is to use pip for package installation. Discussion can be found at https://github.com/pypa/pip/issues/12330\u001B[0m\u001B[33m\n",
      "\u001B[0m\u001B[33mDEPRECATION: Loading egg at /Users/ashokpant/miniconda3/envs/ml/lib/python3.12/site-packages/jmespath-1.0.1-py3.12.egg is deprecated. pip 25.1 will enforce this behaviour change. A possible replacement is to use pip for package installation. Discussion can be found at https://github.com/pypa/pip/issues/12330\u001B[0m\u001B[33m\n",
      "\u001B[0m\u001B[33mDEPRECATION: Loading egg at /Users/ashokpant/miniconda3/envs/ml/lib/python3.12/site-packages/google_auth-2.37.0-py3.12.egg is deprecated. pip 25.1 will enforce this behaviour change. A possible replacement is to use pip for package installation. Discussion can be found at https://github.com/pypa/pip/issues/12330\u001B[0m\u001B[33m\n",
      "\u001B[0m\u001B[33mDEPRECATION: Loading egg at /Users/ashokpant/miniconda3/envs/ml/lib/python3.12/site-packages/argparse-1.4.0-py3.12.egg is deprecated. pip 25.1 will enforce this behaviour change. A possible replacement is to use pip for package installation. Discussion can be found at https://github.com/pypa/pip/issues/12330\u001B[0m\u001B[33m\n",
      "\u001B[0m\u001B[33mDEPRECATION: Loading egg at /Users/ashokpant/miniconda3/envs/ml/lib/python3.12/site-packages/opencv_contrib_python-4.11.0.86-py3.12-macosx-11.0-arm64.egg is deprecated. pip 25.1 will enforce this behaviour change. A possible replacement is to use pip for package installation. Discussion can be found at https://github.com/pypa/pip/issues/12330\u001B[0m\u001B[33m\n",
      "\u001B[0m\u001B[33mDEPRECATION: Loading egg at /Users/ashokpant/miniconda3/envs/ml/lib/python3.12/site-packages/zipfile38-0.0.3-py3.12.egg is deprecated. pip 25.1 will enforce this behaviour change. A possible replacement is to use pip for package installation. Discussion can be found at https://github.com/pypa/pip/issues/12330\u001B[0m\u001B[33m\n",
      "\u001B[0m\u001B[33mDEPRECATION: Loading egg at /Users/ashokpant/miniconda3/envs/ml/lib/python3.12/site-packages/Backtesting-0.1.dev283+g066a58a-py3.12.egg is deprecated. pip 25.1 will enforce this behaviour change. A possible replacement is to use pip for package installation. Discussion can be found at https://github.com/pypa/pip/issues/12330\u001B[0m\u001B[33m\n",
      "\u001B[0m\u001B[33mDEPRECATION: Loading egg at /Users/ashokpant/miniconda3/envs/ml/lib/python3.12/site-packages/protobuf-5.29.3-py3.12.egg is deprecated. pip 25.1 will enforce this behaviour change. A possible replacement is to use pip for package installation. Discussion can be found at https://github.com/pypa/pip/issues/12330\u001B[0m\u001B[33m\n",
      "\u001B[0m\u001B[33mDEPRECATION: Loading egg at /Users/ashokpant/miniconda3/envs/ml/lib/python3.12/site-packages/paddleocr-0.0.0-py3.12.egg is deprecated. pip 25.1 will enforce this behaviour change. A possible replacement is to use pip for package installation. Discussion can be found at https://github.com/pypa/pip/issues/12330\u001B[0m\u001B[33m\n",
      "\u001B[0m\u001B[33mDEPRECATION: Loading egg at /Users/ashokpant/miniconda3/envs/ml/lib/python3.12/site-packages/opencv_python_headless-4.11.0.86-py3.12-macosx-11.0-arm64.egg is deprecated. pip 25.1 will enforce this behaviour change. A possible replacement is to use pip for package installation. Discussion can be found at https://github.com/pypa/pip/issues/12330\u001B[0m\u001B[33m\n",
      "\u001B[0m\u001B[33mDEPRECATION: Loading egg at /Users/ashokpant/miniconda3/envs/ml/lib/python3.12/site-packages/lmdb-1.6.2-py3.12-macosx-11.0-arm64.egg is deprecated. pip 25.1 will enforce this behaviour change. A possible replacement is to use pip for package installation. Discussion can be found at https://github.com/pypa/pip/issues/12330\u001B[0m\u001B[33m\n",
      "\u001B[0m"
     ]
    }
   ],
   "source": [
    "\n",
    "# Install gensim\n",
    "!pip install -q gensim"
   ]
  },
  {
   "cell_type": "code",
   "execution_count": 28,
   "id": "84f8d6149bd5eabc",
   "metadata": {
    "ExecuteTime": {
     "end_time": "2025-03-26T08:20:17.849965Z",
     "start_time": "2025-03-26T08:20:17.847591Z"
    }
   },
   "outputs": [],
   "source": [
    "# Configure the notebook\n",
    "import numpy as np\n",
    "\n",
    "np.set_printoptions(linewidth=200)\n",
    "import pandas as pd\n",
    "\n",
    "pd.options.display.width = 200"
   ]
  },
  {
   "cell_type": "markdown",
   "id": "b3001861f704d946",
   "metadata": {},
   "source": [
    "### Continuous Bag of Words (CBOW)"
   ]
  },
  {
   "cell_type": "code",
   "execution_count": 29,
   "id": "fd7d4debb227bd71",
   "metadata": {
    "ExecuteTime": {
     "end_time": "2025-03-26T08:20:19.332752Z",
     "start_time": "2025-03-26T08:20:19.325049Z"
    }
   },
   "outputs": [
    {
     "name": "stdout",
     "output_type": "stream",
     "text": [
      "Model Information:\n",
      "Word2Vec<vocab=21, vector_size=50, alpha=0.025>\n",
      "Vector for 'nlp':\n",
      "[-1.0724545e-03  4.7286271e-04  1.0206699e-02  1.8018546e-02 -1.8605899e-02 -1.4233618e-02  1.2917745e-02  1.7945977e-02 -1.0030856e-02 -7.5267432e-03  1.4761009e-02 -3.0669428e-03 -9.0732267e-03\n",
      "  1.3108104e-02 -9.7203208e-03 -3.6320353e-03  5.7531595e-03  1.9837476e-03 -1.6570430e-02 -1.8897636e-02  1.4623532e-02  1.0140524e-02  1.3515387e-02  1.5257311e-03  1.2701781e-02 -6.8107317e-03\n",
      " -1.8928028e-03  1.1537147e-02 -1.5043275e-02 -7.8722071e-03 -1.5023164e-02 -1.8600845e-03  1.9076237e-02 -1.4638334e-02 -4.6675373e-03 -3.8754821e-03  1.6154874e-02 -1.1861792e-02  9.0324880e-05\n",
      " -9.5074680e-03 -1.9207101e-02  1.0014586e-02 -1.7519170e-02 -8.7836506e-03 -7.0199967e-05 -5.9236289e-04 -1.5322480e-02  1.9229487e-02  9.9641159e-03  1.8466286e-02]\n"
     ]
    }
   ],
   "source": [
    "from gensim.models import Word2Vec\n",
    "\n",
    "# Example sentences\n",
    "sentences = [\n",
    "    ['I', 'love', 'nlp'],\n",
    "    ['I', 'will', 'learn', 'nlp', 'in', '2', 'months'],\n",
    "    ['nlp', 'is', 'future'],\n",
    "    ['nlp', 'saves', 'time', 'and', 'solves', 'lot', 'of', 'industry', 'problems'],\n",
    "    ['nlp', 'uses', 'machine', 'learning']\n",
    "]\n",
    "\n",
    "# Training the model using CBOW (Continuous Bag of Words)\n",
    "model = Word2Vec(sentences, vector_size=50, window=3, min_count=1, sg=0)  # sg=0 for CBOW\n",
    "\n",
    "# Print model information\n",
    "print(\"Model Information:\")\n",
    "print(model)\n",
    "\n",
    "# Access vector for 'nlp'\n",
    "print(\"Vector for 'nlp':\")\n",
    "print(model.wv['nlp'])\n",
    "\n",
    "# Save model\n",
    "model.save('cbow.bin')"
   ]
  },
  {
   "cell_type": "code",
   "execution_count": 30,
   "id": "96acaf84ed68af66",
   "metadata": {
    "ExecuteTime": {
     "end_time": "2025-03-26T08:28:09.006069Z",
     "start_time": "2025-03-26T08:28:09.001532Z"
    }
   },
   "outputs": [
    {
     "name": "stdout",
     "output_type": "stream",
     "text": [
      "Vocab ['nlp', 'I', 'future', 'love', 'will', 'learn', 'in', '2', 'months', 'is', 'learning', 'machine', 'time', 'and', 'solves', 'lot', 'of', 'industry', 'problems', 'uses', 'saves']\n",
      "learn [ 2.8740549e-03 -5.2920175e-03 -1.4147566e-02 -1.5610614e-02 -1.8243574e-02 -1.1870339e-02 -3.6948491e-03 -8.6477427e-03 -1.2921341e-02 -7.4346447e-03  8.5783172e-03 -7.4780867e-03  1.6756350e-02\n",
      "  3.0679870e-03 -1.4484639e-02  1.8867597e-02  1.5262425e-02  1.0986564e-02 -1.3697691e-02  1.1645358e-02  8.0181863e-03  1.0370739e-02  8.5118031e-03  3.8795089e-03 -6.3403249e-03  1.6707690e-02\n",
      "  1.9224361e-02  7.5852061e-03 -5.6739901e-03  1.4255047e-05  2.4376370e-03 -1.6916649e-02 -1.6447891e-02 -4.6203137e-04  2.4745751e-03 -1.1486761e-02 -9.4505474e-03 -1.4692149e-02  1.6657231e-02\n",
      "  2.4259568e-04 -9.0187974e-03  1.1403411e-02  1.8360030e-02 -8.1997439e-03  1.5929364e-02  1.0750868e-02  1.1758246e-02  1.0251808e-03  1.6426168e-02 -1.4038081e-02]\n",
      "solves [ 1.6343836e-02 -8.8933157e-03  1.7955827e-02  1.6496064e-02 -8.8858791e-03  6.0398283e-04  8.5507967e-03 -7.8399070e-03 -1.1116592e-02 -1.3035561e-02 -1.3376038e-03 -5.8678898e-04  8.9400522e-03\n",
      " -4.9453401e-03 -3.4116692e-04  4.9208631e-03  9.7341174e-03 -4.8998521e-05 -1.2685067e-02 -1.8546049e-02  6.2865707e-05  1.3322186e-02  2.9317094e-03 -1.7919336e-02 -1.5879253e-02  1.3095874e-02\n",
      " -7.5795325e-03  1.2524446e-02 -1.3373671e-02  1.6963677e-02 -1.3038602e-02  6.5874625e-03 -2.1109304e-03 -1.3568433e-02 -6.5821735e-03 -2.3284217e-03 -1.0926371e-02 -2.4153218e-03 -1.5133210e-02\n",
      "  5.2776779e-03  1.8133763e-02 -4.7576288e-03 -1.9565513e-03  7.0226952e-03  1.7347632e-02 -1.1843071e-02 -1.3768398e-02 -5.8823088e-03  1.8294536e-02  1.7262475e-03]\n",
      "Similarity(learn, solves): 0.08198662\n"
     ]
    }
   ],
   "source": [
    "# Use the model\n",
    "\n",
    "# Load saved model\n",
    "model = Word2Vec.load('cbow.bin')\n",
    "vocab = list(model.wv.index_to_key)\n",
    "print(\"Vocab\", vocab)\n",
    "\n",
    "word1 = \"learn\"\n",
    "word2 = \"solves\"\n",
    "vector1 = model.wv[word1]\n",
    "vector2 = model.wv[word2]\n",
    "print(word1, vector1)\n",
    "print(word2, vector2)\n",
    "\n",
    "sim = model.wv.similarity(word1, word2)\n",
    "print(f\"Similarity({word1}, {word2}):\", sim)"
   ]
  },
  {
   "cell_type": "code",
   "execution_count": 31,
   "id": "8588d034581d83c3",
   "metadata": {
    "ExecuteTime": {
     "end_time": "2025-03-26T08:29:18.830228Z",
     "start_time": "2025-03-26T08:29:18.554165Z"
    }
   },
   "outputs": [
    {
     "name": "stdout",
     "output_type": "stream",
     "text": [
      "Vocab ['nlp', 'I', 'future', 'love', 'will', 'learn', 'in', '2', 'months', 'is', 'learning', 'machine', 'time', 'and', 'solves', 'lot', 'of', 'industry', 'problems', 'uses', 'saves']\n"
     ]
    },
    {
     "data": {
      "image/png": "[encoded data removed]",
      "text/plain": [
       "<Figure size 1000x400 with 1 Axes>"
      ]
     },
     "metadata": {},
     "output_type": "display_data"
    }
   ],
   "source": [
    "from sklearn.decomposition import PCA\n",
    "import matplotlib.pyplot as plt\n",
    "\n",
    "# Visualize embeddings\n",
    "# Apply PCA for dimensionality reduction\n",
    "pca = PCA(n_components=2)\n",
    "vocab = list(model.wv.index_to_key)\n",
    "print(\"Vocab\", vocab)\n",
    "vectors = [model.wv[word] for word in vocab]\n",
    "result = pca.fit_transform(vectors)\n",
    "\n",
    "# Create scatter plot\n",
    "plt.figure(figsize=(10, 4))\n",
    "plt.scatter(result[:, 0], result[:, 1])\n",
    "\n",
    "# Annotate points with words\n",
    "for i, word in enumerate(vocab):\n",
    "    plt.annotate(word, xy=(result[i, 0], result[i, 1]))\n",
    "\n",
    "plt.title('Word Embeddings Visualization (CBOW)')\n",
    "plt.xlabel('PCA Component 1')\n",
    "plt.ylabel('PCA Component 2')\n",
    "plt.tight_layout()\n",
    "plt.show()"
   ]
  },
  {
   "cell_type": "markdown",
   "id": "c3c839798919faa8",
   "metadata": {},
   "source": [
    "### Skip-Grams"
   ]
  },
  {
   "cell_type": "code",
   "execution_count": 32,
   "id": "a09b18a35438a607",
   "metadata": {
    "ExecuteTime": {
     "end_time": "2025-03-26T08:30:44.877241Z",
     "start_time": "2025-03-26T08:30:44.866806Z"
    }
   },
   "outputs": [
    {
     "name": "stdout",
     "output_type": "stream",
     "text": [
      "Model Information:\n",
      "Word2Vec<vocab=21, vector_size=50, alpha=0.025>\n",
      "Vector for 'nlp':\n",
      "[-1.0724545e-03  4.7286271e-04  1.0206699e-02  1.8018546e-02 -1.8605899e-02 -1.4233618e-02  1.2917745e-02  1.7945977e-02 -1.0030856e-02 -7.5267432e-03  1.4761009e-02 -3.0669428e-03 -9.0732267e-03\n",
      "  1.3108104e-02 -9.7203208e-03 -3.6320353e-03  5.7531595e-03  1.9837476e-03 -1.6570430e-02 -1.8897636e-02  1.4623532e-02  1.0140524e-02  1.3515387e-02  1.5257311e-03  1.2701781e-02 -6.8107317e-03\n",
      " -1.8928028e-03  1.1537147e-02 -1.5043275e-02 -7.8722071e-03 -1.5023164e-02 -1.8600845e-03  1.9076237e-02 -1.4638334e-02 -4.6675373e-03 -3.8754821e-03  1.6154874e-02 -1.1861792e-02  9.0324880e-05\n",
      " -9.5074680e-03 -1.9207101e-02  1.0014586e-02 -1.7519170e-02 -8.7836506e-03 -7.0199967e-05 -5.9236289e-04 -1.5322480e-02  1.9229487e-02  9.9641159e-03  1.8466286e-02]\n"
     ]
    }
   ],
   "source": [
    "from gensim.models import Word2Vec\n",
    "\n",
    "# Example sentences\n",
    "sentences = [\n",
    "    ['I', 'love', 'nlp'],\n",
    "    ['I', 'will', 'learn', 'nlp', 'in', '2', 'months'],\n",
    "    ['nlp', 'is', 'future'],\n",
    "    ['nlp', 'saves', 'time', 'and', 'solves', 'lot', 'of', 'industry', 'problems'],\n",
    "    ['nlp', 'uses', 'machine', 'learning']\n",
    "]\n",
    "\n",
    "# Training the model using Skip-Gram\n",
    "model = Word2Vec(sentences, vector_size=50, window=3, min_count=1, sg=1)\n",
    "\n",
    "# Print model information\n",
    "print(\"Model Information:\")\n",
    "print(model)\n",
    "\n",
    "# Access vector for 'nlp'\n",
    "print(\"Vector for 'nlp':\")\n",
    "print(model.wv['nlp'])\n",
    "\n",
    "# Save model\n",
    "model.save('skipgram.bin')"
   ]
  },
  {
   "cell_type": "code",
   "execution_count": 33,
   "id": "3a5d9f49ce0479ea",
   "metadata": {
    "ExecuteTime": {
     "end_time": "2025-03-26T08:30:50.932816Z",
     "start_time": "2025-03-26T08:30:50.927249Z"
    }
   },
   "outputs": [
    {
     "name": "stdout",
     "output_type": "stream",
     "text": [
      "Vocab ['nlp', 'I', 'future', 'love', 'will', 'learn', 'in', '2', 'months', 'is', 'learning', 'machine', 'time', 'and', 'solves', 'lot', 'of', 'industry', 'problems', 'uses', 'saves']\n",
      "learn [ 2.8740549e-03 -5.2920175e-03 -1.4147566e-02 -1.5610614e-02 -1.8243574e-02 -1.1870339e-02 -3.6948491e-03 -8.6477427e-03 -1.2921341e-02 -7.4346447e-03  8.5783172e-03 -7.4780867e-03  1.6756350e-02\n",
      "  3.0679870e-03 -1.4484639e-02  1.8867597e-02  1.5262425e-02  1.0986564e-02 -1.3697691e-02  1.1645358e-02  8.0181863e-03  1.0370739e-02  8.5118031e-03  3.8795089e-03 -6.3403249e-03  1.6707690e-02\n",
      "  1.9224361e-02  7.5852061e-03 -5.6739901e-03  1.4255047e-05  2.4376370e-03 -1.6916649e-02 -1.6447891e-02 -4.6203137e-04  2.4745751e-03 -1.1486761e-02 -9.4505474e-03 -1.4692149e-02  1.6657231e-02\n",
      "  2.4259568e-04 -9.0187974e-03  1.1403411e-02  1.8360030e-02 -8.1997439e-03  1.5929364e-02  1.0750868e-02  1.1758246e-02  1.0251808e-03  1.6426168e-02 -1.4038081e-02]\n",
      "solves [ 1.63284838e-02 -8.89547914e-03  1.79741345e-02  1.65141243e-02 -8.88493657e-03  5.94465761e-04  8.55122134e-03 -7.85115920e-03 -1.11291055e-02 -1.30533027e-02 -1.31166156e-03 -5.92625525e-04\n",
      "  8.94212350e-03 -4.94141644e-03 -3.39232880e-04  4.93977405e-03  9.74944793e-03 -6.52667586e-05 -1.27076022e-02 -1.85436420e-02  5.81394270e-05  1.33355092e-02  2.95848027e-03 -1.79218240e-02\n",
      " -1.58933364e-02  1.31084220e-02 -7.55535718e-03  1.25261452e-02 -1.33682806e-02  1.69673115e-02 -1.30272228e-02  6.57440303e-03 -2.14447826e-03 -1.35737285e-02 -6.58216141e-03 -2.31557642e-03\n",
      " -1.09201558e-02 -2.43912823e-03 -1.51577657e-02  5.30427508e-03  1.81640107e-02 -4.75484319e-03 -1.94903510e-03  7.02278968e-03  1.73533224e-02 -1.18344612e-02 -1.37775410e-02 -5.89333428e-03\n",
      "  1.82994176e-02  1.73324137e-03]\n",
      "Similarity(learn, solves): 0.08233425\n"
     ]
    }
   ],
   "source": [
    "# Use the model\n",
    "# Load saved model\n",
    "model = Word2Vec.load('skipgram.bin')\n",
    "vocab = list(model.wv.index_to_key)\n",
    "print(\"Vocab\", vocab)\n",
    "\n",
    "word1 = \"learn\"\n",
    "word2 = \"solves\"\n",
    "vector1 = model.wv[word1]\n",
    "vector2 = model.wv[word2]\n",
    "print(word1, vector1)\n",
    "print(word2, vector2)\n",
    "\n",
    "sim = model.wv.similarity(word1, word2)\n",
    "print(f\"Similarity({word1}, {word2}):\", sim)"
   ]
  },
  {
   "cell_type": "code",
   "execution_count": null,
   "id": "682a0284c0d7a567",
   "metadata": {},
   "outputs": [],
   "source": [
    "from sklearn.decomposition import PCA\n",
    "import matplotlib.pyplot as plt\n",
    "\n",
    "# Visualize embeddings\n",
    "# Apply PCA for dimensionality reduction\n",
    "pca = PCA(n_components=2)\n",
    "model = Word2Vec.load('skipgram.bin')\n",
    "vocab = list(model.wv.index_to_key)\n",
    "print(\"Vocab\", vocab)\n",
    "vectors = [model.wv[word] for word in vocab]\n",
    "result = pca.fit_transform(vectors)\n",
    "\n",
    "# Create scatter plot\n",
    "plt.figure(figsize=(10, 4))\n",
    "plt.scatter(result[:, 0], result[:, 1])\n",
    "\n",
    "# Annotate points with words\n",
    "for i, word in enumerate(vocab):\n",
    "    plt.annotate(word, xy=(result[i, 0], result[i, 1]))\n",
    "\n",
    "plt.title('Word Embeddings Visualization (Skip-Gram)')\n",
    "plt.xlabel('PCA Component 1')\n",
    "plt.ylabel('PCA Component 2')\n",
    "plt.tight_layout()\n",
    "plt.show()"
   ]
  },
  {
   "cell_type": "markdown",
   "id": "558357c0499117d3",
   "metadata": {},
   "source": [
    "## FastText\n",
    "fastText is the improvised version of word2vec. word2vec basically\n",
    "considers words to build the representation. But fastText takes each\n",
    "character while computing the representation of the word."
   ]
  },
  {
   "cell_type": "code",
   "execution_count": 35,
   "id": "83d6f5b37d8d185b",
   "metadata": {
    "ExecuteTime": {
     "end_time": "2025-03-26T07:59:15.643558Z",
     "start_time": "2025-03-19T09:57:39.420286Z"
    }
   },
   "outputs": [
    {
     "name": "stdout",
     "output_type": "stream",
     "text": [
      "Vector for 'nlp':\n",
      "[-0.01044169 -0.00166992  0.00851491 -0.00545158 -0.01564237  0.01678065  0.00298395  0.00162992 -0.01518791  0.00655623  0.01039656 -0.00142836 -0.01665709  0.00949577  0.00262534 -0.00541661\n",
      "  0.0063507  -0.00105192 -0.02014117  0.00102295]\n",
      "Vector for 'deep':\n",
      "[-0.00718654 -0.00310375 -0.00214245 -0.00143114 -0.00600196  0.00922425  0.01241926 -0.00713524 -0.00693269 -0.00987075  0.01335533 -0.00810269  0.01761531 -0.00716007 -0.00427308  0.00729467\n",
      "  0.01494505 -0.01626069  0.01229173  0.01455308]\n"
     ]
    }
   ],
   "source": [
    "from gensim.models import FastText\n",
    "\n",
    "# Example sentences\n",
    "sentences = [\n",
    "    ['I', 'love', 'nlp'],\n",
    "    ['I', 'will', 'learn', 'nlp', 'in', '2', 'months'],\n",
    "    ['nlp', 'is', 'future'],\n",
    "    ['nlp', 'saves', 'time', 'and', 'solves', 'lot', 'of', 'industry', 'problems'],\n",
    "    ['nlp', 'uses', 'machine', 'learning']\n",
    "]\n",
    "\n",
    "# Train FastText model\n",
    "fast = FastText(sentences, vector_size=20, window=1, min_count=1, workers=5, min_n=1, max_n=2)\n",
    "\n",
    "# Demonstrate vector retrieval for words\n",
    "print(\"Vector for 'nlp':\")\n",
    "print(fast.wv['nlp'])\n",
    "\n",
    "print(\"Vector for 'deep':\")\n",
    "print(fast.wv['deep'])\n",
    "\n",
    "# Save the model\n",
    "fast.save('fast.bin')"
   ]
  },
  {
   "cell_type": "code",
   "execution_count": 36,
   "id": "de1924b72ead6e1c",
   "metadata": {},
   "outputs": [
    {
     "name": "stdout",
     "output_type": "stream",
     "text": [
      "Vocab ['nlp', 'I', 'future', 'love', 'will', 'learn', 'in', '2', 'months', 'is', 'learning', 'machine', 'time', 'and', 'solves', 'lot', 'of', 'industry', 'problems', 'uses', 'saves']\n",
      "learn [ 0.00349316 -0.01225737  0.01172628 -0.00482078  0.01527359  0.00457044 -0.00131968  0.00664451 -0.0098305  -0.00894084  0.01940419 -0.00896281 -0.01220377  0.01429046  0.00236036  0.00606252\n",
      "  0.00360613 -0.00450385 -0.00895219  0.00266363]\n",
      "solves [ 0.00686666  0.00209339 -0.00173512  0.0006682  -0.00309117  0.01199835  0.00498798 -0.00443417 -0.00053578 -0.01357355  0.01154658 -0.00098505  0.00107434  0.00838569 -0.00140993 -0.00787677\n",
      "  0.01096813  0.01555869  0.00584626  0.00130047]\n",
      "Similarity(learn, solves): 0.20150003\n",
      "Demonstrating out-of-vocabulary word vector generation:\n",
      "Vector for 'learning': [-1.4319660e-03 -8.8032829e-03  5.8035087e-03 -7.0009772e-03  6.7653628e-03  7.7824839e-03 -4.6468023e-03  2.6467426e-03 -1.2093085e-02 -1.3289730e-03  1.2271232e-02 -1.3941983e-03 -7.7663572e-04\n",
      " -6.3592881e-05 -2.3501727e-03 -3.4601411e-03  2.7132449e-03 -2.5675911e-03 -8.7741194e-03  4.0810667e-03]\n",
      "Vector for 'deeplearning': [ 0.00016615 -0.00907705  0.0054603  -0.00499235  0.00374246  0.00670306  0.00401075  0.00099078 -0.00777629 -0.00257187  0.01147093  0.00068806  0.00494912 -0.00184903 -0.00445926  0.00304775\n",
      "  0.00443293 -0.00946061 -0.0013443   0.0059427 ]\n",
      "Vector for 'nlpmodel': [ 0.00701857 -0.01353816  0.00340438 -0.00644233 -0.00359037  0.01470133  0.00347765 -0.00685188 -0.001351    0.00084853  0.00441824 -0.00040447 -0.00579791  0.00315513 -0.00208082 -0.00450956\n",
      " -0.00254191 -0.0024501  -0.00680244  0.00166426]\n"
     ]
    }
   ],
   "source": [
    "# Use the model\n",
    "# Load saved model\n",
    "model = FastText.load('fast.bin')\n",
    "vocab = list(model.wv.index_to_key)\n",
    "print(\"Vocab\", vocab)\n",
    "\n",
    "word1 = \"learn\"\n",
    "word2 = \"solves\"\n",
    "vector1 = model.wv[word1]\n",
    "vector2 = model.wv[word2]\n",
    "print(word1, vector1)\n",
    "print(word2, vector2)\n",
    "\n",
    "sim = model.wv.similarity(word1, word2)\n",
    "print(f\"Similarity({word1}, {word2}):\", sim)\n",
    "\n",
    "# Demonstrate FastText's ability to generate vectors for out-of-vocabulary words\n",
    "print(\"Demonstrating out-of-vocabulary word vector generation:\")\n",
    "out_of_vocab_words = ['learning', 'deeplearning', 'nlpmodel']\n",
    "for word in out_of_vocab_words:\n",
    "    print(f\"Vector for '{word}': {fast.wv[word]}\")"
   ]
  },
  {
   "cell_type": "code",
   "execution_count": null,
   "id": "2be367045dd30e94",
   "metadata": {},
   "outputs": [],
   "source": [
    "from sklearn.decomposition import PCA\n",
    "import matplotlib.pyplot as plt\n",
    "\n",
    "# Visualize embeddings\n",
    "# Apply PCA for dimensionality reduction\n",
    "model = FastText.load('fast.bin')\n",
    "pca = PCA(n_components=2)\n",
    "vocab = list(model.wv.index_to_key)\n",
    "print(\"Vocab\", vocab)\n",
    "vectors = [model.wv[word] for word in vocab]\n",
    "result = pca.fit_transform(vectors)\n",
    "\n",
    "# Create scatter plot\n",
    "plt.figure(figsize=(10, 4))\n",
    "plt.scatter(result[:, 0], result[:, 1])\n",
    "\n",
    "# Annotate points with words\n",
    "for i, word in enumerate(vocab):\n",
    "    plt.annotate(word, xy=(result[i, 0], result[i, 1]))\n",
    "\n",
    "plt.title('Word Embeddings Visualization (Skip-Gram)')\n",
    "plt.xlabel('PCA Component 1')\n",
    "plt.ylabel('PCA Component 2')\n",
    "plt.tight_layout()\n",
    "plt.show()"
   ]
  },
  {
   "cell_type": "markdown",
   "id": "9a4e3a044dc4de7c",
   "metadata": {},
   "source": [
    "## GloVe\n",
    "\n",
    "- https://nlp.stanford.edu/projects/glove/"
   ]
  },
  {
   "cell_type": "code",
   "execution_count": null,
   "id": "adf7ac34-da1e-4a3e-a46b-5f7421f74987",
   "metadata": {},
   "outputs": [],
   "source": [
    "# Download pre-trained glove model\n",
    "# https://huggingface.co/stanfordnlp/glove/resolve/main/glove.6B.zip "
   ]
  },
  {
   "metadata": {},
   "cell_type": "code",
   "outputs": [],
   "execution_count": null,
   "source": [
    "# Load using custom method\n",
    "def load_glove_embeddings(glove_model_path):\n",
    "    embeddings_index = {}\n",
    "    with open(glove_model_path, \"r\", encoding=\"utf-8\") as f:\n",
    "        for line in f:\n",
    "            values = line.strip().split()\n",
    "            word = values[0]\n",
    "            vector = np.asarray(values[1:], dtype=np.float32)\n",
    "            embeddings_index[word] = vector\n",
    "    return embeddings_index\n",
    "\n",
    "\n",
    "glove_model_path = \"../../data/glove.6B.50d.txt\"\n",
    "model = load_glove_embeddings(glove_model_path)\n",
    "\n",
    "# Access word vector\n",
    "print(model[\"hello\"])"
   ],
   "id": "7b08f59fd5773be8"
  },
  {
   "metadata": {},
   "cell_type": "code",
   "outputs": [],
   "execution_count": null,
   "source": [
    "# Load using gensim\n",
    "from gensim.models import KeyedVectors\n",
    "\n",
    "glove_model_file = \"../../data/glove.6B.50d.txt\"\n",
    "\n",
    "# Load with gensim\n",
    "model = KeyedVectors.load_word2vec_format(glove_model_file, binary=False, no_header=True)\n",
    "# Access word vector\n",
    "print(model[\"hello\"])"
   ],
   "id": "9aa07c4b42d4dc65"
  },
  {
   "metadata": {},
   "cell_type": "code",
   "outputs": [],
   "execution_count": null,
   "source": [
    "# Use the model\n",
    "# Load saved model\n",
    "vocab = model.index_to_key[:100]\n",
    "print(f\"Vocab (100/{len(model.index_to_key)})\", vocab)\n",
    "\n",
    "word1 = \"learn\"\n",
    "word2 = \"solves\"\n",
    "vector1 = model[word1]\n",
    "vector2 = model[word2]\n",
    "print(word1, vector1)\n",
    "print(word2, vector2)\n",
    "\n",
    "sim = model.similarity(word1, word2)\n",
    "print(f\"Similarity({word1}, {word2}):\", sim)"
   ],
   "id": "9ec8839a7af49aef"
  },
  {
   "cell_type": "code",
   "execution_count": 68,
   "id": "fef9767b-43ae-4028-a8d4-b6baa9600ada",
   "metadata": {},
   "outputs": [
    {
     "name": "stdout",
     "output_type": "stream",
     "text": [
      "[-0.36007404  1.11749    -0.95357     0.23340897 -0.61478996  0.39344007  0.351819    0.00892998 -0.11721998 -0.95351005  0.460624    0.00778997  0.581579   -1.6889399   1.0298901   1.06127\n",
      " -0.79307    -0.875071    0.09278601 -0.12671     0.4923401  -0.16355002  0.486629    0.19539994  0.0304636  -1.1259999  -1.1410601  -2.4913     -1.42766     0.12147999  2.4320002   1.80152\n",
      " -0.80444    -0.079      -0.03257999 -0.29144     0.19099     0.341816   -1.64169     0.17211002 -0.12176597 -0.02761006  0.37769997  0.16137004  0.25269997  0.8962599  -0.87281    -1.64715\n",
      " -1.53356    -0.70428   ]\n",
      "[ 0.37854    1.8233    -1.2648    -0.1043     0.35829    0.60029   -0.17538    0.83767   -0.056798  -0.75795    0.22681    0.98587    0.60587   -0.31419    0.28877    0.56013   -0.77456    0.071421\n",
      " -0.5741     0.21342    0.57674    0.3868    -0.12574    0.28012    0.28135   -1.8053    -1.0421    -0.19255   -0.55375   -0.054526   1.5574     0.39296   -0.2475     0.34251    0.45365    0.16237\n",
      "  0.52464   -0.070272  -0.83744   -1.0326     0.45946    0.25302   -0.17837   -0.73398   -0.20025    0.2347    -0.56095   -2.2839     0.0092753 -0.60284  ]\n",
      "[('kingdom', 0.7013998627662659), ('king', 0.6653268933296204), ('women', 0.6566213369369507), ('queen', 0.6292899250984192), ('invited', 0.6251225471496582), ('ii', 0.6004623770713806), ('ceremonies', 0.5975188612937927), ('commonwealth', 0.5949116349220276), ('participate', 0.5945375561714172), ('attend', 0.5938369035720825)]\n",
      "[('queen', 1.000000238418579), ('princess', 0.8515165448188782), ('lady', 0.8050608038902283), ('elizabeth', 0.7873042225837708), ('king', 0.7839043736457825), ('prince', 0.7821861505508423), ('coronation', 0.7692778706550598), ('consort', 0.7626097202301025), ('royal', 0.7442864179611206), ('crown', 0.7382649779319763)]\n"
     ]
    }
   ],
   "source": [
    "# king - man + women ~= queen\n",
    "v1 = model.get_vector(\"king\")\n",
    "v2 = model.get_vector(\"man\")\n",
    "v3 = model.get_vector(\"women\")\n",
    "v4 = model.get_vector(\"queen\")\n",
    "result = v1-v2+v3\n",
    "\n",
    "print(result)\n",
    "print(v4)\n",
    "\n",
    "sim = model.similar_by_vector(result)\n",
    "print(sim)\n",
    "\n",
    "sim4 = model.similar_by_vector(v4)\n",
    "print(sim4)"
   ]
  },
  {
   "cell_type": "code",
   "execution_count": null,
   "id": "28b670c7-9d10-4adc-9cee-626abe6819d1",
   "metadata": {},
   "outputs": [],
   "source": []
  }
 ],
 "metadata": {
  "kernelspec": {
   "display_name": "Python 3 (ipykernel)",
   "language": "python",
   "name": "python3"
  },
  "language_info": {
   "codemirror_mode": {
    "name": "ipython",
    "version": 3
   },
   "file_extension": ".py",
   "mimetype": "text/x-python",
   "name": "python",
   "nbconvert_exporter": "python",
   "pygments_lexer": "ipython3",
   "version": "3.12.4"
  }
 },
 "nbformat": 4,
 "nbformat_minor": 5
}
