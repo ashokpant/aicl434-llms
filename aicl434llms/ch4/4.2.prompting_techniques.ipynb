{
 "cells": [
  {
   "metadata": {},
   "cell_type": "markdown",
   "source": "# Prompting Techniques",
   "id": "521ef2b3c20e1c33"
  },
  {
   "metadata": {},
   "cell_type": "markdown",
   "source": "## Chain of Thought (CoT) Prompting",
   "id": "516541c86bf6dfe9"
  },
  {
   "cell_type": "code",
   "id": "initial_id",
   "metadata": {
    "collapsed": true
   },
   "source": [
    "from transformers import AutoModelForCausalLM, AutoTokenizer\n",
    "from transformers import pipeline\n",
    "\n",
    "model = AutoModelForCausalLM.from_pretrained(\"microsoft/Phi-4-mini-instruct\")\n",
    "tokenizer = AutoTokenizer.from_pretrained(\"microsoft/Phi-4-mini-instruct\")\n",
    "pipe = pipeline(\"text-generation\", model=model, tokenizer=tokenizer, max_new_tokens=500)"
   ],
   "outputs": [],
   "execution_count": null
  },
  {
   "metadata": {},
   "cell_type": "code",
   "source": [
    "prompt = [\n",
    "    {\"role\": \"user\",\n",
    "     \"content\": \"Ram has 5 tennis balls. He buys 2 more cans of tennis balls. Each can has 3 tennis balls. How many tennis balls does he have now?\"},\n",
    "    {\"role\": \"assistant\",\n",
    "     \"content\": \"Ram started with 5 balls. 2 cans of 3 tennis balls each is 6 tennis balls. 5 + 6 = 11. The answer is 11.\"},\n",
    "    {\"role\": \"user\",\n",
    "     \"content\": \"The cafeteria had 23 apples. If they used 20 to make lunch and bought 6 more, how many apples do they have?\"}\n",
    "]\n",
    "response = pipe(prompt, num_return_sequences=1)\n",
    "for res in response:\n",
    "    print(f\"==========\")\n",
    "    for message in res['generated_text']:\n",
    "        print(f'{message[\"role\"].capitalize()}: {message[\"content\"]}')"
   ],
   "id": "7f5441cefee1a026",
   "outputs": [],
   "execution_count": null
  },
  {
   "metadata": {},
   "cell_type": "markdown",
   "source": "## Zero-shot Chain of Thought (CoT) Prompting",
   "id": "e08a70375e06595f"
  },
  {
   "metadata": {},
   "cell_type": "code",
   "source": [
    "# Zero-shot chain-of-thought\n",
    "prompt = [\n",
    "    {\"role\": \"user\",\n",
    "     \"content\": \"The cafeteria had 23 apples. If they used 20 to make lunch and bought 6 more, how many apples do they have? Let's think step-by-step.\"}\n",
    "]\n",
    "response = pipe(prompt, num_return_sequences=1)\n",
    "for res in response:\n",
    "    print(f\"==========\")\n",
    "    for message in res['generated_text']:\n",
    "        print(f'{message[\"role\"].capitalize()}: {message[\"content\"]}')"
   ],
   "id": "43f0f3b586fa09b2",
   "outputs": [],
   "execution_count": null
  },
  {
   "metadata": {},
   "cell_type": "code",
   "source": "",
   "id": "f450f7a9d1c3f209",
   "outputs": [],
   "execution_count": null
  }
 ],
 "metadata": {
  "kernelspec": {
   "display_name": "Python 3",
   "language": "python",
   "name": "python3"
  },
  "language_info": {
   "codemirror_mode": {
    "name": "ipython",
    "version": 2
   },
   "file_extension": ".py",
   "mimetype": "text/x-python",
   "name": "python",
   "nbconvert_exporter": "python",
   "pygments_lexer": "ipython2",
   "version": "2.7.6"
  }
 },
 "nbformat": 4,
 "nbformat_minor": 5
}
