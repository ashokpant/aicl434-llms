{
 "cells": [
  {
   "metadata": {},
   "cell_type": "markdown",
   "source": [
    "# Prompt Engineering\n",
    "Ashok Kumar Pant"
   ],
   "id": "c8a93ff545f1a559"
  },
  {
   "metadata": {},
   "cell_type": "markdown",
   "source": "## Prompt Components",
   "id": "d2209b1453a65a05"
  },
  {
   "cell_type": "code",
   "id": "initial_id",
   "metadata": {
    "collapsed": true,
    "ExecuteTime": {
     "end_time": "2025-06-03T13:32:40.188179Z",
     "start_time": "2025-06-03T13:32:40.185804Z"
    }
   },
   "source": [
    "from sympy.physics.units import temperature\n",
    "\n",
    "# Prompt components\n",
    "persona = (\n",
    "    \"You are an expert in Large Language Models. \"\n",
    "    \"You excel at breaking down complex papers into digestible summaries. \"\n",
    ")\n",
    "\n",
    "instruction = (\n",
    "    \"Summarize the key findings of the paper provided. \"\n",
    ")\n",
    "\n",
    "context = (\n",
    "    \"Your summary should extract the most crucial points that can help \"\n",
    "    \"researchers quickly understand the most vital information of the paper. \"\n",
    ")\n",
    "\n",
    "data_format = (\n",
    "    \"Create a bullet-point summary that outlines the method. \"\n",
    "    \"Follow this up with a concise paragraph that encapsulates the main results. \"\n",
    ")\n",
    "\n",
    "audience = (\n",
    "    \"The summary is designed for busy researchers that quickly need to grasp \"\n",
    "    \"the newest trends in Large Language Models. \"\n",
    ")\n",
    "\n",
    "tone = (\n",
    "    \"The tone should be professional and clear. \"\n",
    ")\n",
    "\n",
    "text = \"MY TEXT TO SUMMARIZE\"\n",
    "\n",
    "# Properly use the variable `text` inside the string\n",
    "data = f\"Text to summarize: {text}\"\n",
    "\n",
    "# The full prompt\n",
    "query = persona + instruction + context + data_format + audience + tone + data\n",
    "\n",
    "print(query)\n"
   ],
   "outputs": [
    {
     "name": "stdout",
     "output_type": "stream",
     "text": [
      "You are an expert in Large Language Models. You excel at breaking down complex papers into digestible summaries. Summarize the key findings of the paper provided. Your summary should extract the most crucial points that can help researchers quickly understand the most vital information of the paper. Create a bullet-point summary that outlines the method. Follow this up with a concise paragraph that encapsulates the main results. The summary is designed for busy researchers that quickly need to grasp the newest trends in Large Language Models. The tone should be professional and clear. Text to summarize: MY TEXT TO SUMMARIZE\n"
     ]
    }
   ],
   "execution_count": 2
  },
  {
   "metadata": {},
   "cell_type": "markdown",
   "source": "## Sample Prompt",
   "id": "72eed95b3083258c"
  },
  {
   "metadata": {
    "ExecuteTime": {
     "end_time": "2025-06-06T10:35:39.514760Z",
     "start_time": "2025-06-06T10:35:11.183972Z"
    }
   },
   "cell_type": "code",
   "source": [
    "from transformers import AutoModelForCausalLM, AutoTokenizer\n",
    "# Example of CoT prompting\n",
    "from transformers import pipeline\n",
    "\n",
    "model = AutoModelForCausalLM.from_pretrained(\"microsoft/Phi-4-mini-instruct\")\n",
    "tokenizer = AutoTokenizer.from_pretrained(\"microsoft/Phi-4-mini-instruct\")\n",
    "pipe = pipeline(\"text-generation\", model=model, tokenizer=tokenizer, max_new_tokens=500)"
   ],
   "id": "9065cf42d9e475c3",
   "outputs": [
    {
     "data": {
      "text/plain": [
       "Loading checkpoint shards:   0%|          | 0/2 [00:00<?, ?it/s]"
      ],
      "application/vnd.jupyter.widget-view+json": {
       "version_major": 2,
       "version_minor": 0,
       "model_id": "5c2538db7dde4ec185274b3a217019b4"
      }
     },
     "metadata": {},
     "output_type": "display_data"
    },
    {
     "name": "stderr",
     "output_type": "stream",
     "text": [
      "Device set to use mps:0\n"
     ]
    }
   ],
   "execution_count": 1
  },
  {
   "metadata": {
    "ExecuteTime": {
     "end_time": "2025-06-06T10:40:27.070545Z",
     "start_time": "2025-06-06T10:39:58.486520Z"
    }
   },
   "cell_type": "code",
   "source": [
    "prompt = \"The sky is\"\n",
    "\n",
    "messages = [\n",
    "    {\n",
    "        \"role\": \"user\",\n",
    "        \"content\": prompt\n",
    "    }\n",
    "]\n",
    "\n",
    "response = pipe(messages, temperature=0.7, do_sample=True, num_return_sequences=2)\n",
    "for res in response:\n",
    "    print(f\"==========\")\n",
    "    for message in res['generated_text']:\n",
    "        print(f'{message[\"role\"].capitalize()}: {message[\"content\"]}')"
   ],
   "id": "d2bdef054f378a8a",
   "outputs": [
    {
     "name": "stdout",
     "output_type": "stream",
     "text": [
      "==========\n",
      "User: The sky is\n",
      "Assistant: The sky is typically a dome of blue, dotted with white clouds, and stretching infinitely above us. It is the vast expanse of the Earth's atmosphere that we see, and it changes colors and patterns throughout the day. Early in the morning, it is usually a soft blue, becoming a vivid blue as the sun rises higher. As the day progresses, it can become a brilliant blue with shades of gray and white as clouds pass by. In the evening, it turns into a deep orange or pink as the sun sets, eventually becoming dark blue at night. The sky is also home to various celestial bodies like the moon, stars, and sometimes, particularly on clear nights, the Milky Way. The atmosphere around the sky is filled with air, composed mainly of nitrogen and oxygen, and sometimes visible phenomena like rain, snow, or even auroras can occur. The sky plays a crucial role in the Earth's ecosystem, affecting weather patterns, climate, and even the cycle of day and night.\n",
      "==========\n",
      "User: The sky is\n",
      "Assistant: The sky is a vast expanse above us, typically blue during the day and filled with clouds, stars, the moon, and the sun, or a deep twilight at sunset and sunrise. It can also be filled with various shades of gray or white, depending on weather conditions, and is home to birds, planes, and weather phenomena like rain, snow, and thunderstorms. The sky has been a source of wonder, inspiration, and sometimes awe for humans throughout history, playing a crucial role in various cultures and mythologies.\n"
     ]
    }
   ],
   "execution_count": 6
  },
  {
   "metadata": {},
   "cell_type": "markdown",
   "source": "## Text summarization example",
   "id": "273c2d91fc8c31fd"
  },
  {
   "metadata": {
    "ExecuteTime": {
     "end_time": "2025-06-06T10:42:15.685021Z",
     "start_time": "2025-06-06T10:42:08.189432Z"
    }
   },
   "cell_type": "code",
   "source": [
    "prompt = \"\"\"Antibiotics are a type of medication used to treat bacterial infections. They work by either killing the bacteria or preventing them from reproducing, allowing the body's immune system to fight off the infection. Antibiotics are usually taken orally in the form of pills, capsules, or liquid solutions, or sometimes administered intravenously. They are not effective against viral infections, and using them inappropriately can lead to antibiotic resistance.\n",
    "\n",
    "Explain the above in one sentence:\"\"\"\n",
    "\n",
    "messages = [\n",
    "    {\n",
    "        \"role\": \"user\",\n",
    "        \"content\": prompt\n",
    "    }\n",
    "]\n",
    "\n",
    "response = pipe(messages, temperature=0.7, do_sample=True, num_return_sequences=1)\n",
    "for res in response:\n",
    "    print(f\"==========\")\n",
    "    for message in res['generated_text']:\n",
    "        print(f'{message[\"role\"].capitalize()}: {message[\"content\"]}')"
   ],
   "id": "712b16f049b584cd",
   "outputs": [
    {
     "name": "stdout",
     "output_type": "stream",
     "text": [
      "==========\n",
      "User: Antibiotics are a type of medication used to treat bacterial infections. They work by either killing the bacteria or preventing them from reproducing, allowing the body's immune system to fight off the infection. Antibiotics are usually taken orally in the form of pills, capsules, or liquid solutions, or sometimes administered intravenously. They are not effective against viral infections, and using them inappropriately can lead to antibiotic resistance.\n",
      "\n",
      "Explain the above in one sentence:\n",
      "Assistant: Antibiotics are medications that treat bacterial infections by killing bacteria or inhibiting their growth, available in various forms for oral or intravenous administration, but are ineffective against viruses and can contribute to antibiotic resistance when misused.\n"
     ]
    }
   ],
   "execution_count": 7
  }
 ],
 "metadata": {
  "kernelspec": {
   "display_name": "Python 3",
   "language": "python",
   "name": "python3"
  },
  "language_info": {
   "codemirror_mode": {
    "name": "ipython",
    "version": 2
   },
   "file_extension": ".py",
   "mimetype": "text/x-python",
   "name": "python",
   "nbconvert_exporter": "python",
   "pygments_lexer": "ipython2",
   "version": "2.7.6"
  }
 },
 "nbformat": 4,
 "nbformat_minor": 5
}
