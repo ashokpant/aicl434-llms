{
 "cells": [
  {
   "metadata": {},
   "cell_type": "markdown",
   "source": [
    "# LLM Chatbot\n",
    "\n",
    "Ashok Kumar Pant"
   ],
   "id": "f5bfbd382223f2fa"
  },
  {
   "cell_type": "code",
   "id": "initial_id",
   "metadata": {
    "collapsed": true,
    "ExecuteTime": {
     "end_time": "2025-06-06T11:48:56.114539Z",
     "start_time": "2025-06-06T11:48:54.450455Z"
    }
   },
   "source": [
    "from transformers import AutoModelForCausalLM, AutoTokenizer, pipeline\n",
    "\n",
    "# Load model and tokenizer\n",
    "model_name = \"TinyLlama/TinyLlama-1.1B-Chat-v0.3\"\n",
    "model_name = \"gpt2\"\n",
    "model = AutoModelForCausalLM.from_pretrained(model_name)\n",
    "tokenizer = AutoTokenizer.from_pretrained(model_name)\n",
    "\n",
    "# Create text-generation pipeline\n",
    "pipe = pipeline(\"text-generation\", model=model, tokenizer=tokenizer, max_new_tokens=500)"
   ],
   "outputs": [
    {
     "name": "stderr",
     "output_type": "stream",
     "text": [
      "Device set to use mps:0\n"
     ]
    }
   ],
   "execution_count": 4
  },
  {
   "metadata": {
    "ExecuteTime": {
     "end_time": "2025-06-06T11:48:57.886188Z",
     "start_time": "2025-06-06T11:48:57.759568Z"
    }
   },
   "cell_type": "code",
   "source": [
    "import gradio as gr\n",
    "\n",
    "chat_history = []\n",
    "\n",
    "\n",
    "def chat_with_bot_ui(user_input):\n",
    "    global chat_history\n",
    "    chat_history.append(f\"User: {user_input}\")\n",
    "    prompt = \"\\n\".join(chat_history) + \"\\nBot:\"\n",
    "    response = pipe(prompt, do_sample=True, temperature=0.7)[0][\"generated_text\"]\n",
    "    bot_reply = response.split(\"Bot:\")[-1].strip()\n",
    "    chat_history.append(f\"Bot: {bot_reply}\")\n",
    "    return bot_reply\n",
    "\n",
    "\n",
    "iface = gr.Interface(\n",
    "    fn=chat_with_bot_ui,\n",
    "    inputs=gr.Textbox(lines=2, placeholder=\"Type your message here...\"),\n",
    "    outputs=\"text\",\n",
    "    title=\"Simple Chatbot UI\",\n",
    "    description=\"Chat with the bot. Type 'exit', 'quit', or 'bye' to end.\"\n",
    ")\n",
    "\n",
    "iface.launch()\n"
   ],
   "id": "d1a5a91f2c722c71",
   "outputs": [
    {
     "name": "stdout",
     "output_type": "stream",
     "text": [
      "* Running on local URL:  http://127.0.0.1:7862\n",
      "* To create a public link, set `share=True` in `launch()`.\n"
     ]
    },
    {
     "data": {
      "text/plain": [
       "<IPython.core.display.HTML object>"
      ],
      "text/html": [
       "<div><iframe src=\"http://127.0.0.1:7862/\" width=\"100%\" height=\"500\" allow=\"autoplay; camera; microphone; clipboard-read; clipboard-write;\" frameborder=\"0\" allowfullscreen></iframe></div>"
      ]
     },
     "metadata": {},
     "output_type": "display_data"
    },
    {
     "data": {
      "text/plain": []
     },
     "execution_count": 5,
     "metadata": {},
     "output_type": "execute_result"
    }
   ],
   "execution_count": 5
  }
 ],
 "metadata": {
  "kernelspec": {
   "display_name": "Python 3",
   "language": "python",
   "name": "python3"
  },
  "language_info": {
   "codemirror_mode": {
    "name": "ipython",
    "version": 2
   },
   "file_extension": ".py",
   "mimetype": "text/x-python",
   "name": "python",
   "nbconvert_exporter": "python",
   "pygments_lexer": "ipython2",
   "version": "2.7.6"
  }
 },
 "nbformat": 4,
 "nbformat_minor": 5
}
