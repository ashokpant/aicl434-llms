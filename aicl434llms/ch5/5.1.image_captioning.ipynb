{
 "cells": [
  {
   "metadata": {},
   "cell_type": "markdown",
   "source": [
    "# Preprocessing multimodal inputs\n",
    "Ashok Kumar Pant"
   ],
   "id": "b416dd7a94a02c3c"
  },
  {
   "metadata": {},
   "cell_type": "markdown",
   "source": [
    "## Model setup\n",
    "* Processor: Like a tokenizer for LLMs; handles images (resize, normalization) & text (tokenization).\n",
    "* Model: Blip2ForConditionalGeneration from HuggingFace.\n",
    "\n",
    "**BLIP-2**\n",
    "\n",
    "BLIP-2 (Bootstrapped Language Image Pretraining 2) is an advanced vision-language model developed by Salesforce. It’s designed for tasks like image captioning, visual question answering (VQA), and image-grounded dialogue. BLIP-2 bridges visual and textual data by using a vision encoder and a language model, achieving strong performance with efficient training.\n",
    "\n",
    "https://huggingface.co/Salesforce/blip2-opt-2.7b"
   ],
   "id": "fab086b49f9d01dd"
  },
  {
   "cell_type": "code",
   "id": "initial_id",
   "metadata": {
    "collapsed": true,
    "ExecuteTime": {
     "end_time": "2025-06-19T07:58:40.676484Z",
     "start_time": "2025-06-19T07:57:53.003154Z"
    }
   },
   "source": [
    "from transformers import AutoProcessor, Blip2ForConditionalGeneration\n",
    "import torch\n",
    "\n",
    "blip_processor = AutoProcessor.from_pretrained(\"Salesforce/blip2-opt-2.7b\")\n",
    "model = Blip2ForConditionalGeneration.from_pretrained(\"Salesforce/blip2-opt-2.7b\", torch_dtype=torch.float16)\n",
    "\n",
    "device = \"cuda\" if torch.cuda.is_available() else \"cpu\"\n",
    "model = model.to(device)"
   ],
   "outputs": [
    {
     "name": "stderr",
     "output_type": "stream",
     "text": [
      "Using a slow image processor as `use_fast` is unset and a slow processor was saved with this model. `use_fast=True` will be the default behavior in v4.52, even if the model was saved with a slow processor. This will result in minor differences in outputs. You'll still be able to use a slow processor with `use_fast=False`.\n"
     ]
    },
    {
     "data": {
      "text/plain": [
       "Loading checkpoint shards:   0%|          | 0/2 [00:00<?, ?it/s]"
      ],
      "application/vnd.jupyter.widget-view+json": {
       "version_major": 2,
       "version_minor": 0,
       "model_id": "66b9787c717e4933bc3d27b0214f8290"
      }
     },
     "metadata": {},
     "output_type": "display_data"
    }
   ],
   "execution_count": 1
  },
  {
   "metadata": {
    "ExecuteTime": {
     "end_time": "2025-06-12T03:44:05.506600Z",
     "start_time": "2025-06-12T03:44:04.017947Z"
    }
   },
   "cell_type": "code",
   "source": "!pip install torchinfo",
   "id": "9dcec5f37e965c25",
   "outputs": [
    {
     "name": "stdout",
     "output_type": "stream",
     "text": [
      "Requirement already satisfied: torchinfo in /Users/ashokpant/miniconda3/envs/ml/lib/python3.12/site-packages (1.8.0)\r\n"
     ]
    }
   ],
   "execution_count": 4
  },
  {
   "metadata": {
    "ExecuteTime": {
     "end_time": "2025-06-12T04:02:48.003432Z",
     "start_time": "2025-06-12T04:02:47.942098Z"
    }
   },
   "cell_type": "code",
   "source": [
    "# print(model)\n",
    "from torchinfo import summary\n",
    "summary(model)"
   ],
   "id": "1c95ab45be051947",
   "outputs": [
    {
     "data": {
      "text/plain": [
       "===============================================================================================\n",
       "Layer (type:depth-idx)                                                 Param #\n",
       "===============================================================================================\n",
       "Blip2ForConditionalGeneration                                          24,576\n",
       "├─Blip2VisionModel: 1-1                                                --\n",
       "│    └─Blip2VisionEmbeddings: 2-1                                      363,264\n",
       "│    │    └─Conv2d: 3-1                                                829,312\n",
       "│    └─Blip2Encoder: 2-2                                               --\n",
       "│    │    └─ModuleList: 3-2                                            984,756,864\n",
       "│    └─LayerNorm: 2-3                                                  2,816\n",
       "├─Blip2QFormerModel: 1-2                                               --\n",
       "│    └─LayerNorm: 2-4                                                  1,536\n",
       "│    └─Dropout: 2-5                                                    --\n",
       "│    └─Blip2QFormerEncoder: 2-6                                        --\n",
       "│    │    └─ModuleList: 3-3                                            105,136,128\n",
       "├─Linear: 1-3                                                          1,968,640\n",
       "├─OPTForCausalLM: 1-4                                                  --\n",
       "│    └─OPTModel: 2-7                                                   --\n",
       "│    │    └─OPTDecoder: 3-4                                            2,651,678,720\n",
       "│    └─Linear: 2-8                                                     128,778,240\n",
       "===============================================================================================\n",
       "Total params: 3,873,540,096\n",
       "Trainable params: 3,873,540,096\n",
       "Non-trainable params: 0\n",
       "==============================================================================================="
      ]
     },
     "execution_count": 17,
     "metadata": {},
     "output_type": "execute_result"
    }
   ],
   "execution_count": 17
  },
  {
   "metadata": {},
   "cell_type": "markdown",
   "source": [
    "## Preprocessing multimodal inputs\n",
    "### Preprocessing Images\n",
    "Image is resized (regardless of original aspect ratio) to 224x224 and converted to a PyTorch tensor with shape [1, 3, 224, 224]."
   ],
   "id": "a8564a7acbf307d0"
  },
  {
   "metadata": {
    "ExecuteTime": {
     "end_time": "2025-06-19T07:59:41.746005Z",
     "start_time": "2025-06-19T07:59:41.064959Z"
    }
   },
   "cell_type": "code",
   "source": [
    "from PIL import Image\n",
    "from urllib.request import urlopen\n",
    "\n",
    "car_path = \"https://raw.githubusercontent.com/HandsOnLLM/Hands-On-Large-Language-Models/main/chapter09/images/car.png\"\n",
    "image = Image.open(urlopen(car_path)).convert(\"RGB\")\n",
    "\n",
    "inputs = blip_processor(image, return_tensors=\"pt\").to(device, torch.float16)\n",
    "print(inputs[\"pixel_values\"].shape)  # Output: torch.Size([1, 3, 224, 224])"
   ],
   "id": "43d1253c69741bbd",
   "outputs": [
    {
     "name": "stdout",
     "output_type": "stream",
     "text": [
      "torch.Size([1, 3, 224, 224])\n"
     ]
    }
   ],
   "execution_count": 2
  },
  {
   "metadata": {},
   "cell_type": "markdown",
   "source": [
    "### Preprocessing Text\n",
    "BLIP-2 uses GPT2Tokenizer for text.\n",
    "\n",
    "Spaces are encoded as Ġ (space marker)."
   ],
   "id": "5525e943b8fb669d"
  },
  {
   "metadata": {
    "ExecuteTime": {
     "end_time": "2025-06-19T07:59:56.222459Z",
     "start_time": "2025-06-19T07:59:56.207507Z"
    }
   },
   "cell_type": "code",
   "source": [
    "text = \"Her vocalization was remarkably melodic\"\n",
    "token_ids = blip_processor(image, text=text, return_tensors=\"pt\").to(device, torch.float16)[\"input_ids\"][0]\n",
    "tokens = blip_processor.tokenizer.convert_ids_to_tokens(token_ids)\n",
    "tokens = [t.replace(\"Ġ\", \"_\") for t in tokens]  # Illustrative replacement\n",
    "print(tokens)  # ['</s>', 'Her', '_vocal', 'ization', '_was', '_remarkably', '_mel', 'odic']"
   ],
   "id": "ced44abde0828e8b",
   "outputs": [
    {
     "name": "stdout",
     "output_type": "stream",
     "text": [
      "['<image>', '<image>', '<image>', '<image>', '<image>', '<image>', '<image>', '<image>', '<image>', '<image>', '<image>', '<image>', '<image>', '<image>', '<image>', '<image>', '<image>', '<image>', '<image>', '<image>', '<image>', '<image>', '<image>', '<image>', '<image>', '<image>', '<image>', '<image>', '<image>', '<image>', '<image>', '<image>', '</s>', 'Her', '_vocal', 'ization', '_was', '_remarkably', '_mel', 'odic']\n"
     ]
    }
   ],
   "execution_count": 3
  },
  {
   "metadata": {},
   "cell_type": "markdown",
   "source": "## Generate caption tokens and decode them into text",
   "id": "62db1d0ef1804774"
  },
  {
   "metadata": {
    "ExecuteTime": {
     "end_time": "2025-06-19T08:07:30.657537Z",
     "start_time": "2025-06-19T08:07:25.389363Z"
    }
   },
   "cell_type": "code",
   "source": [
    "from PIL import Image\n",
    "from urllib.request import urlopen\n",
    "image_path = \"https://raw.githubusercontent.com/HandsOnLLM/Hands-On-Large-Language-Models/main/chapter09/images/car.png\"\n",
    "# image_path = \"https://media.newyorker.com/photos/66fda6654477174568cf9572/16:9/w_2240,c_limit/Filkins-Iran-Israel-New.jpg\"\n",
    "# image_path= \"https://cdn.shopify.com/s/files/1/0073/3334/7426/files/kevin-turcios-rls2bfqyh8e-unsplash_1_600x600.jpg\"\n",
    "image = Image.open(urlopen(image_path)).convert(\"RGB\")\n",
    "\n",
    "# Preprocess the image to pixel values expected by BLIP-2\n",
    "inputs = blip_processor(image, return_tensors=\"pt\").to(device, torch.float16)\n",
    "# Generate caption token IDs (max 20 new tokens)\n",
    "generated_ids = model.generate(**inputs, max_new_tokens=20)\n",
    "\n",
    "# Decode tokens to readable text\n",
    "generated_text = blip_processor.batch_decode(generated_ids, skip_special_tokens=True)[0].strip()\n",
    "\n",
    "print(\"Caption:\", generated_text)\n"
   ],
   "id": "d787e801bbe2aad1",
   "outputs": [
    {
     "name": "stdout",
     "output_type": "stream",
     "text": [
      "Caption: a man is standing on a skateboard in front of a building\n"
     ]
    }
   ],
   "execution_count": 20
  },
  {
   "metadata": {},
   "cell_type": "markdown",
   "source": "## Fun experiment: Captioning a Rorschach inkblot\n",
   "id": "cd36ca7e40f99c54"
  },
  {
   "metadata": {
    "ExecuteTime": {
     "end_time": "2025-06-19T08:06:27.829060Z",
     "start_time": "2025-06-19T08:06:21.444223Z"
    }
   },
   "cell_type": "code",
   "source": [
    "rorschach_url = \"https://upload.wikimedia.org/wikipedia/commons/7/70/Rorschach_blot_01.jpg\"\n",
    "image = Image.open(urlopen(rorschach_url)).convert(\"RGB\")\n",
    "inputs = blip_processor(image, return_tensors=\"pt\").to(device, torch.float16)\n",
    "\n",
    "generated_ids = model.generate(**inputs, max_new_tokens=20)\n",
    "generated_text = blip_processor.batch_decode(generated_ids, skip_special_tokens=True)[0].strip()\n",
    "\n",
    "print(\"Caption for Rorschach test:\", generated_text)\n"
   ],
   "id": "3ba16d6e64738eec",
   "outputs": [
    {
     "name": "stdout",
     "output_type": "stream",
     "text": [
      "Caption for Rorschach test: a drawing of a horse with a black and white pattern\n"
     ]
    }
   ],
   "execution_count": 18
  }
 ],
 "metadata": {
  "kernelspec": {
   "display_name": "Python 3",
   "language": "python",
   "name": "python3"
  },
  "language_info": {
   "codemirror_mode": {
    "name": "ipython",
    "version": 2
   },
   "file_extension": ".py",
   "mimetype": "text/x-python",
   "name": "python",
   "nbconvert_exporter": "python",
   "pygments_lexer": "ipython2",
   "version": "2.7.6"
  }
 },
 "nbformat": 4,
 "nbformat_minor": 5
}
